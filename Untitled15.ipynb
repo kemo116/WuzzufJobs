{
  "nbformat": 4,
  "nbformat_minor": 0,
  "metadata": {
    "colab": {
      "provenance": []
    },
    "kernelspec": {
      "name": "python3",
      "display_name": "Python 3"
    },
    "language_info": {
      "name": "python"
    },
    "accelerator": "GPU",
    "gpuClass": "standard"
  },
  "cells": [
    {
      "cell_type": "code",
      "execution_count": 15,
      "metadata": {
        "colab": {
          "base_uri": "https://localhost:8080/"
        },
        "id": "OuOj-6r3CCBE",
        "outputId": "d4feee00-15c1-49dd-e5e4-fcb4c158fab8"
      },
      "outputs": [
        {
          "output_type": "stream",
          "name": "stdout",
          "text": [
            "Looking in indexes: https://pypi.org/simple, https://us-python.pkg.dev/colab-wheels/public/simple/\n",
            "Requirement already satisfied: beautifulsoup4 in /usr/local/lib/python3.9/dist-packages (4.11.2)\n",
            "Requirement already satisfied: soupsieve>1.2 in /usr/local/lib/python3.9/dist-packages (from beautifulsoup4) (2.4.1)\n"
          ]
        }
      ],
      "source": [
        "pip install beautifulsoup4"
      ]
    },
    {
      "cell_type": "code",
      "source": [
        "pip install lxml"
      ],
      "metadata": {
        "colab": {
          "base_uri": "https://localhost:8080/"
        },
        "id": "DyZ2MlKaCOBV",
        "outputId": "8e63ae69-2654-45ef-c054-67aef85191cb"
      },
      "execution_count": 4,
      "outputs": [
        {
          "output_type": "stream",
          "name": "stdout",
          "text": [
            "Looking in indexes: https://pypi.org/simple, https://us-python.pkg.dev/colab-wheels/public/simple/\n",
            "Requirement already satisfied: lxml in /usr/local/lib/python3.9/dist-packages (4.9.2)\n"
          ]
        }
      ]
    },
    {
      "cell_type": "code",
      "source": [
        "pip install html5lib"
      ],
      "metadata": {
        "colab": {
          "base_uri": "https://localhost:8080/"
        },
        "id": "Bef-DwxwDZx8",
        "outputId": "72b32acb-b287-4c99-892f-816bdb8566bc"
      },
      "execution_count": 5,
      "outputs": [
        {
          "output_type": "stream",
          "name": "stdout",
          "text": [
            "Looking in indexes: https://pypi.org/simple, https://us-python.pkg.dev/colab-wheels/public/simple/\n",
            "Requirement already satisfied: html5lib in /usr/local/lib/python3.9/dist-packages (1.1)\n",
            "Requirement already satisfied: webencodings in /usr/local/lib/python3.9/dist-packages (from html5lib) (0.5.1)\n",
            "Requirement already satisfied: six>=1.9 in /usr/local/lib/python3.9/dist-packages (from html5lib) (1.16.0)\n"
          ]
        }
      ]
    },
    {
      "cell_type": "code",
      "source": [
        "pip install requests"
      ],
      "metadata": {
        "colab": {
          "base_uri": "https://localhost:8080/"
        },
        "id": "8BEt86tgDjOT",
        "outputId": "b9cdc26c-6362-4962-ba67-ed806c1f04e0"
      },
      "execution_count": 6,
      "outputs": [
        {
          "output_type": "stream",
          "name": "stdout",
          "text": [
            "Looking in indexes: https://pypi.org/simple, https://us-python.pkg.dev/colab-wheels/public/simple/\n",
            "Requirement already satisfied: requests in /usr/local/lib/python3.9/dist-packages (2.27.1)\n",
            "Requirement already satisfied: urllib3<1.27,>=1.21.1 in /usr/local/lib/python3.9/dist-packages (from requests) (1.26.15)\n",
            "Requirement already satisfied: idna<4,>=2.5 in /usr/local/lib/python3.9/dist-packages (from requests) (3.4)\n",
            "Requirement already satisfied: certifi>=2017.4.17 in /usr/local/lib/python3.9/dist-packages (from requests) (2022.12.7)\n",
            "Requirement already satisfied: charset-normalizer~=2.0.0 in /usr/local/lib/python3.9/dist-packages (from requests) (2.0.12)\n"
          ]
        }
      ]
    },
    {
      "cell_type": "code",
      "source": [
        "from time import sleep, strftime\n",
        "from random import randint\n",
        "import pandas as pd\n",
        "from selenium import webdriver\n",
        "from selenium.webdriver.common.keys import Keys\n",
        "import smtplib\n",
        "from email.mime.multipart import MIMEMultipart\n",
        "import csv\n",
        "from itertools import zip_longest"
      ],
      "metadata": {
        "id": "DAfISAwcDoLQ"
      },
      "execution_count": 8,
      "outputs": []
    },
    {
      "cell_type": "code",
      "source": [
        "from bs4 import BeautifulSoup"
      ],
      "metadata": {
        "id": "UMfKnIlKVLdI"
      },
      "execution_count": 16,
      "outputs": []
    },
    {
      "cell_type": "code",
      "source": [
        "!pip install requests\n",
        "import requests"
      ],
      "metadata": {
        "colab": {
          "base_uri": "https://localhost:8080/"
        },
        "id": "0a4fwfc9VAnj",
        "outputId": "0b20a209-d741-4be8-e75f-f0789a18197c"
      },
      "execution_count": 11,
      "outputs": [
        {
          "output_type": "stream",
          "name": "stdout",
          "text": [
            "Looking in indexes: https://pypi.org/simple, https://us-python.pkg.dev/colab-wheels/public/simple/\n",
            "Requirement already satisfied: requests in /usr/local/lib/python3.9/dist-packages (2.27.1)\n",
            "Requirement already satisfied: urllib3<1.27,>=1.21.1 in /usr/local/lib/python3.9/dist-packages (from requests) (1.26.15)\n",
            "Requirement already satisfied: charset-normalizer~=2.0.0 in /usr/local/lib/python3.9/dist-packages (from requests) (2.0.12)\n",
            "Requirement already satisfied: certifi>=2017.4.17 in /usr/local/lib/python3.9/dist-packages (from requests) (2022.12.7)\n",
            "Requirement already satisfied: idna<4,>=2.5 in /usr/local/lib/python3.9/dist-packages (from requests) (3.4)\n"
          ]
        }
      ]
    },
    {
      "cell_type": "code",
      "source": [
        "result = requests.get('https://wuzzuf.net/search/jobs/?q=python&a=hpb')"
      ],
      "metadata": {
        "id": "xHlukQk6qkAS"
      },
      "execution_count": 12,
      "outputs": []
    },
    {
      "cell_type": "code",
      "source": [
        "src=result.content"
      ],
      "metadata": {
        "id": "1KODM4b7my-F"
      },
      "execution_count": 13,
      "outputs": []
    },
    {
      "cell_type": "code",
      "source": [
        "soup=BeautifulSoup(src,'lxml')"
      ],
      "metadata": {
        "id": "4L_Glk0vnAKA"
      },
      "execution_count": 146,
      "outputs": []
    },
    {
      "cell_type": "code",
      "source": [
        "job_title=[]\n",
        "job_skill=[]\n",
        "location=[]\n",
        "company_name=[]\n",
        "links=[]"
      ],
      "metadata": {
        "id": "lyfm48MI_85x"
      },
      "execution_count": 18,
      "outputs": []
    },
    {
      "cell_type": "code",
      "source": [
        "job_titles=soup.find_all(\"h2\",{\"class\":\"css-m604qf\"})\n",
        "print(job_titles)"
      ],
      "metadata": {
        "colab": {
          "base_uri": "https://localhost:8080/"
        },
        "id": "eCykxlh-yTDs",
        "outputId": "6002e032-8a32-405c-e7df-b429c7bc5e9d"
      },
      "execution_count": 21,
      "outputs": [
        {
          "output_type": "stream",
          "name": "stdout",
          "text": [
            "[<h2 class=\"css-m604qf\"><style data-emotion=\"css o171kl\">.css-o171kl{-webkit-text-decoration:none;text-decoration:none;color:inherit;}</style><a class=\"css-o171kl\" href=\"/jobs/p/0QcXDjlHSYWv-Python-Data-Crawler-and-Pipeline-Manager-ProperBird-Munich-Germany?o=1&amp;l=sp&amp;t=sj&amp;a=python|search-v3|hpb\" rel=\"noreferrer\" target=\"_blank\">Python Data Crawler and Pipeline Manager</a></h2>, <h2 class=\"css-m604qf\"><a class=\"css-o171kl\" href=\"/jobs/p/vQvRLPg7UDjv-Senior-Java-Scala-Backend-Developer-with-Python-experience--Remote-GetTechForce-com-Cairo-Egypt?o=2&amp;l=sp&amp;t=sj&amp;a=python|search-v3|hpb\" rel=\"noreferrer\" target=\"_blank\">Senior Java/ Scala Backend Developer with Python experience- Remote</a></h2>, <h2 class=\"css-m604qf\"><a class=\"css-o171kl\" href=\"/jobs/p/xDDQRHJRw9kb-Junior-Odoo-Python-Developer-Ulemt-Cairo-Egypt?o=3&amp;l=sp&amp;t=sj&amp;a=python|search-v3|hpb\" rel=\"noreferrer\" target=\"_blank\">Junior Odoo / Python Developer</a></h2>, <h2 class=\"css-m604qf\"><a class=\"css-o171kl\" href=\"/jobs/p/umErRniA2Sld-Senior-Full-Stack-Python-Developer-Luftborn-Cairo-Egypt?o=4&amp;l=sp&amp;t=sj&amp;a=python|search-v3|hpb\" rel=\"noreferrer\" target=\"_blank\">Senior Full Stack Python Developer</a></h2>, <h2 class=\"css-m604qf\"><a class=\"css-o171kl\" href=\"/jobs/p/jVAMAEFs9QN9-Python-Technical-Lead-RDI-Giza-Egypt?o=5&amp;l=sp&amp;t=sj&amp;a=python|search-v3|hpb\" rel=\"noreferrer\" target=\"_blank\">Python Technical Lead</a></h2>, <h2 class=\"css-m604qf\"><a class=\"css-o171kl\" href=\"/jobs/p/V9tpf9hKVtVu-Senior-Python-Developer-Nile-Bits-LLC-Giza-Egypt?o=6&amp;l=sp&amp;t=sj&amp;a=python|search-v3|hpb\" rel=\"noreferrer\" target=\"_blank\">Senior Python Developer</a></h2>, <h2 class=\"css-m604qf\"><a class=\"css-o171kl\" href=\"/jobs/p/lLRPv82EYbk5-Wagtail-Python-Django-Developer-Remote---Urgent-GetTechForce-com-Cairo-Egypt?o=7&amp;l=sp&amp;t=sj&amp;a=python|search-v3|hpb\" rel=\"noreferrer\" target=\"_blank\">Wagtail (Python Django) Developer Remote - Urgent</a></h2>, <h2 class=\"css-m604qf\"><a class=\"css-o171kl\" href=\"/jobs/p/UOTTbSsxB9Q7-Senior-Python-Django-Developer-RDI-Giza-Egypt?o=8&amp;l=sp&amp;t=sj&amp;a=python|search-v3|hpb\" rel=\"noreferrer\" target=\"_blank\">Senior Python / Django Developer</a></h2>, <h2 class=\"css-m604qf\"><a class=\"css-o171kl\" href=\"/jobs/p/w9gACyzkbBpQ-Junior-Python-Developer-RDI-Giza-Egypt?o=9&amp;l=sp&amp;t=sj&amp;a=python|search-v3|hpb\" rel=\"noreferrer\" target=\"_blank\">Junior Python Developer</a></h2>, <h2 class=\"css-m604qf\"><a class=\"css-o171kl\" href=\"/jobs/p/Sz7aIfCDRTJ1-Senior-Full-Stack-Python-Engineer-Amwal-Tech-Cairo-Egypt?o=10&amp;l=sp&amp;t=sj&amp;a=python|search-v3|hpb\" rel=\"noreferrer\" target=\"_blank\">Senior Full Stack Python Engineer</a></h2>, <h2 class=\"css-m604qf\"><a class=\"css-o171kl\" href=\"/jobs/p/eALeQDui1EFp-Python-Developer-OdooTec-Cairo-Egypt?o=11&amp;l=sp&amp;t=sj&amp;a=python|search-v3|hpb\" rel=\"noreferrer\" target=\"_blank\">Python Developer</a></h2>, <h2 class=\"css-m604qf\"><a class=\"css-o171kl\" href=\"/jobs/p/cpUe170b7sLK-Risk-Data-Analyst-Fawry-Microfinance-Cairo-Egypt?o=12&amp;l=sp&amp;t=sj&amp;a=python|search-v3|hpb\" rel=\"noreferrer\" target=\"_blank\">Risk Data Analyst</a></h2>, <h2 class=\"css-m604qf\"><a class=\"css-o171kl\" href=\"/jobs/p/DGZIFqyQzVTW-Full-Stack-Developer-Dafater-Cairo-Egypt?o=13&amp;l=sp&amp;t=sj&amp;a=python|search-v3|hpb\" rel=\"noreferrer\" target=\"_blank\">Full Stack Developer</a></h2>, <h2 class=\"css-m604qf\"><a class=\"css-o171kl\" href=\"/jobs/p/OJFF30qtFBvM-Python---Odoo-Developer-Be-In-Track-Cairo-Egypt?o=14&amp;l=sp&amp;t=sj&amp;a=python|search-v3|hpb\" rel=\"noreferrer\" target=\"_blank\">Python - Odoo Developer</a></h2>, <h2 class=\"css-m604qf\"><a class=\"css-o171kl\" href=\"/jobs/p/0VvqhRRRoffE-Devops-Engineer-intella-Giza-Egypt?o=15&amp;l=sp&amp;t=sj&amp;a=python|search-v3|hpb\" rel=\"noreferrer\" target=\"_blank\">Devops Engineer</a></h2>]\n"
          ]
        }
      ]
    },
    {
      "cell_type": "code",
      "source": [
        "company_names=soup.find_all(\"a\",{\"class\":\"css-17s97q8\"})\n",
        "print(company_names)"
      ],
      "metadata": {
        "colab": {
          "base_uri": "https://localhost:8080/"
        },
        "id": "xnQwmaR_9JEZ",
        "outputId": "718849e2-023d-4d8c-cf24-be84271966ae"
      },
      "execution_count": 22,
      "outputs": [
        {
          "output_type": "stream",
          "name": "stdout",
          "text": [
            "[<a class=\"css-17s97q8\" href=\"https://wuzzuf.net/jobs/careers/ProperBird-Germany-77298\" rel=\"noreferrer\" target=\"_blank\">ProperBird -</a>, <a class=\"css-17s97q8\" href=\"https://wuzzuf.net/jobs/careers/GetTechForce-com-Egypt-57284\" rel=\"noreferrer\" target=\"_blank\">GetTechForce.com -</a>, <a class=\"css-17s97q8\" href=\"https://wuzzuf.net/jobs/careers/Ulemt-Egypt-21777\" rel=\"noreferrer\" target=\"_blank\">Ulemt -</a>, <a class=\"css-17s97q8\" href=\"https://wuzzuf.net/jobs/careers/The-New-Firm-Egypt-56206\" rel=\"noreferrer\" target=\"_blank\">Luftborn -</a>, <a class=\"css-17s97q8\" href=\"https://wuzzuf.net/jobs/careers/RDI-Egypt-5083\" rel=\"noreferrer\" target=\"_blank\">RDI -</a>, <a class=\"css-17s97q8\" href=\"https://wuzzuf.net/jobs/careers/Nile-Bits-Egypt-17498\" rel=\"noreferrer\" target=\"_blank\">Nile Bits, LLC -</a>, <a class=\"css-17s97q8\" href=\"https://wuzzuf.net/jobs/careers/GetTechForce-com-Egypt-57284\" rel=\"noreferrer\" target=\"_blank\">GetTechForce.com -</a>, <a class=\"css-17s97q8\" href=\"https://wuzzuf.net/jobs/careers/RDI-Egypt-5083\" rel=\"noreferrer\" target=\"_blank\">RDI -</a>, <a class=\"css-17s97q8\" href=\"https://wuzzuf.net/jobs/careers/RDI-Egypt-5083\" rel=\"noreferrer\" target=\"_blank\">RDI -</a>, <a class=\"css-17s97q8\" href=\"https://wuzzuf.net/jobs/careers/Amwal Tech-Egypt-87588\" rel=\"noreferrer\" target=\"_blank\">Amwal Tech -</a>, <a class=\"css-17s97q8\" href=\"https://wuzzuf.net/jobs/careers/OdooTec-Egypt-57875\" rel=\"noreferrer\" target=\"_blank\">OdooTec -</a>, <a class=\"css-17s97q8\" href=\"https://wuzzuf.net/jobs/careers/Fawry-Microfinance-Egypt-41319\" rel=\"noreferrer\" target=\"_blank\">Fawry Microfinance  -</a>, <a class=\"css-17s97q8\" href=\"https://wuzzuf.net/jobs/careers/BusinessClouds-Saudi-Arabia-27770\" rel=\"noreferrer\" target=\"_blank\">Dafater -</a>, <a class=\"css-17s97q8\" href=\"https://wuzzuf.net/jobs/careers/-87230\" rel=\"noreferrer\" target=\"_blank\">Be In Track -</a>, <a class=\"css-17s97q8\" href=\"https://wuzzuf.net/jobs/careers/intella-Egypt-73664\" rel=\"noreferrer\" target=\"_blank\">intella -</a>]\n"
          ]
        }
      ]
    },
    {
      "cell_type": "code",
      "source": [
        "locations=soup.find_all(\"span\",{\"class\":\"css-5wys0k\"})\n",
        "locations"
      ],
      "metadata": {
        "colab": {
          "base_uri": "https://localhost:8080/"
        },
        "id": "PiUCIhEa-LY6",
        "outputId": "f256901a-30c5-48b0-cd13-089bdf3dd036"
      },
      "execution_count": 23,
      "outputs": [
        {
          "output_type": "execute_result",
          "data": {
            "text/plain": [
              "[<span class=\"css-5wys0k\">Munich, <!-- -->Germany </span>,\n",
              " <span class=\"css-5wys0k\">Cairo, <!-- -->Egypt </span>,\n",
              " <span class=\"css-5wys0k\">New Cairo, <!-- -->Cairo, <!-- -->Egypt </span>,\n",
              " <span class=\"css-5wys0k\">Heliopolis, <!-- -->Cairo, <!-- -->Egypt </span>,\n",
              " <span class=\"css-5wys0k\">Dokki, <!-- -->Giza, <!-- -->Egypt </span>,\n",
              " <span class=\"css-5wys0k\">6th of October, <!-- -->Giza, <!-- -->Egypt </span>,\n",
              " <span class=\"css-5wys0k\">Cairo, <!-- -->Egypt </span>,\n",
              " <span class=\"css-5wys0k\">Dokki, <!-- -->Giza, <!-- -->Egypt </span>,\n",
              " <span class=\"css-5wys0k\">Dokki, <!-- -->Giza, <!-- -->Egypt </span>,\n",
              " <span class=\"css-5wys0k\">Cairo, <!-- -->Egypt </span>,\n",
              " <span class=\"css-5wys0k\">New Cairo, <!-- -->Cairo, <!-- -->Egypt </span>,\n",
              " <span class=\"css-5wys0k\">Maadi, <!-- -->Cairo, <!-- -->Egypt </span>,\n",
              " <span class=\"css-5wys0k\">Heliopolis, <!-- -->Cairo, <!-- -->Egypt </span>,\n",
              " <span class=\"css-5wys0k\">Ain Shams, <!-- -->Cairo, <!-- -->Egypt </span>,\n",
              " <span class=\"css-5wys0k\">Dokki, <!-- -->Giza, <!-- -->Egypt </span>]"
            ]
          },
          "metadata": {},
          "execution_count": 23
        }
      ]
    },
    {
      "cell_type": "code",
      "source": [
        "job_skills=soup.find_all(\"div\",{\"class\":\"css-y4udm8\"})\n"
      ],
      "metadata": {
        "id": "P0BpojLM-_p_"
      },
      "execution_count": 153,
      "outputs": []
    },
    {
      "cell_type": "code",
      "source": [
        "for job in range(len(job_titles)):\n",
        "  job_title.append(job_titles[job].text)\n",
        "  links.append(job_titles[job].find(\"a\").attrs['href'])\n"
      ],
      "metadata": {
        "id": "76SLI5fX_b88"
      },
      "execution_count": 46,
      "outputs": []
    },
    {
      "cell_type": "code",
      "source": [
        "job_title"
      ],
      "metadata": {
        "colab": {
          "base_uri": "https://localhost:8080/"
        },
        "id": "2P_zKP9IA0gy",
        "outputId": "3aed935f-d5d0-401f-bd37-b946b1797ebc"
      },
      "execution_count": 27,
      "outputs": [
        {
          "output_type": "execute_result",
          "data": {
            "text/plain": [
              "['Python Data Crawler and Pipeline Manager',\n",
              " 'Senior Java/ Scala Backend Developer with Python experience- Remote',\n",
              " 'Junior Odoo / Python Developer',\n",
              " 'Senior Full Stack Python Developer',\n",
              " 'Python Technical Lead',\n",
              " 'Senior Python Developer',\n",
              " 'Wagtail (Python Django) Developer Remote - Urgent',\n",
              " 'Senior Python / Django Developer',\n",
              " 'Junior Python Developer',\n",
              " 'Senior Full Stack Python Engineer',\n",
              " 'Python Developer',\n",
              " 'Risk Data Analyst',\n",
              " 'Full Stack Developer',\n",
              " 'Python - Odoo Developer',\n",
              " 'Devops Engineer']"
            ]
          },
          "metadata": {},
          "execution_count": 27
        }
      ]
    },
    {
      "cell_type": "code",
      "source": [
        "for company in range(len(company_names)):\n",
        "  company_name.append(company_names[company].text)"
      ],
      "metadata": {
        "id": "xLTqf2gqDt4z"
      },
      "execution_count": 28,
      "outputs": []
    },
    {
      "cell_type": "code",
      "source": [
        "company_name"
      ],
      "metadata": {
        "colab": {
          "base_uri": "https://localhost:8080/"
        },
        "id": "pgG1w2m_ETpf",
        "outputId": "6fe64b61-3069-479b-f55a-9f74b9da5778"
      },
      "execution_count": 29,
      "outputs": [
        {
          "output_type": "execute_result",
          "data": {
            "text/plain": [
              "['ProperBird -',\n",
              " 'GetTechForce.com -',\n",
              " 'Ulemt -',\n",
              " 'Luftborn -',\n",
              " 'RDI -',\n",
              " 'Nile Bits, LLC -',\n",
              " 'GetTechForce.com -',\n",
              " 'RDI -',\n",
              " 'RDI -',\n",
              " 'Amwal Tech -',\n",
              " 'OdooTec -',\n",
              " 'Fawry Microfinance  -',\n",
              " 'Dafater -',\n",
              " 'Be In Track -',\n",
              " 'intella -']"
            ]
          },
          "metadata": {},
          "execution_count": 29
        }
      ]
    },
    {
      "cell_type": "code",
      "source": [
        "for loc in range(len(locations)):\n",
        "  location.append(locations[loc].text)"
      ],
      "metadata": {
        "id": "ZF7ISPWuEca0"
      },
      "execution_count": 30,
      "outputs": []
    },
    {
      "cell_type": "code",
      "source": [
        "location"
      ],
      "metadata": {
        "colab": {
          "base_uri": "https://localhost:8080/"
        },
        "id": "UrhRWgOQEpJv",
        "outputId": "21b4b4fc-b01a-4eea-d816-dfef7e2dd9da"
      },
      "execution_count": 31,
      "outputs": [
        {
          "output_type": "execute_result",
          "data": {
            "text/plain": [
              "['Munich, Germany ',\n",
              " 'Cairo, Egypt ',\n",
              " 'New Cairo, Cairo, Egypt ',\n",
              " 'Heliopolis, Cairo, Egypt ',\n",
              " 'Dokki, Giza, Egypt ',\n",
              " '6th of October, Giza, Egypt ',\n",
              " 'Cairo, Egypt ',\n",
              " 'Dokki, Giza, Egypt ',\n",
              " 'Dokki, Giza, Egypt ',\n",
              " 'Cairo, Egypt ',\n",
              " 'New Cairo, Cairo, Egypt ',\n",
              " 'Maadi, Cairo, Egypt ',\n",
              " 'Heliopolis, Cairo, Egypt ',\n",
              " 'Ain Shams, Cairo, Egypt ',\n",
              " 'Dokki, Giza, Egypt ']"
            ]
          },
          "metadata": {},
          "execution_count": 31
        }
      ]
    },
    {
      "cell_type": "code",
      "source": [
        "for skill in range(len(job_skills)):\n",
        "  job_skill.append(job_skills[skill].text)"
      ],
      "metadata": {
        "id": "yYxmfQP_E0GL"
      },
      "execution_count": 32,
      "outputs": []
    },
    {
      "cell_type": "code",
      "source": [
        "job_skill"
      ],
      "metadata": {
        "colab": {
          "base_uri": "https://localhost:8080/"
        },
        "id": "08auO9QCE_Eu",
        "outputId": "0af8bee1-e6e1-4b71-e394-5ed6d8cfa2e9"
      },
      "execution_count": 33,
      "outputs": [
        {
          "output_type": "execute_result",
          "data": {
            "text/plain": [
              "['Full TimeExperienced · 3 - 6 Yrs of Exp · IT/Software Development · Computer Science · Crawling · Python · MongoDB · Software Development',\n",
              " 'Full TimeWork From HomeExperienced · 5+ Yrs of Exp · IT/Software Development · Engineering - Telecom/Technology · AngularJS · Computer Science · Design · Development · HTML5 · Information Technology (IT) · JPA · REST',\n",
              " 'Full TimeEntry Level · 1 - 2 Yrs of Exp · Creative/Design/Art · IT/Software Development · Engineering - Telecom/Technology · Computer Science · developer · Information Technology (IT) · Python · Odoo · HTML · XML',\n",
              " 'Full TimeExperienced · 5 - 8 Yrs of Exp · IT/Software Development · Python · Computer Science · Software · Software Development · python development · HTML · CSS · JavaScript · SQL',\n",
              " 'Full TimeExperienced · 8+ Yrs of Exp · IT/Software Development · Operations/Management · Engineering - Telecom/Technology · Python · Flask · Django · MySQL · MongoDB · Docker · Kubernetes',\n",
              " 'Full TimeWork From HomeExperienced · 4 - 10 Yrs of Exp · IT/Software Development · JavaScript · Python · Software Engineering',\n",
              " 'Full TimeWork From HomeExperienced · 3+ Yrs of Exp · IT/Software Development · Engineering - Telecom/Technology · Python · React · FullStack · backend · Computer Science · Agile · Development · Django',\n",
              " 'Full TimeExperienced · 3+ Yrs of Exp · IT/Software Development · Engineering - Telecom/Technology · Django · Python · MySQL · GIT · Docker · javaScript · Angular · RESTful APIs',\n",
              " 'Full TimeEntry Level · 1 - 3 Yrs of Exp · Business Development · IT/Software Development · Engineering - Telecom/Technology · Python · MySQL · JavaScript · React · Angular · RESTful · Django',\n",
              " 'Full TimeWork From HomeExperienced · 4+ Yrs of Exp · IT/Software Development · Python · MySQL · jQuery · JavaScript · React · HTML5 · Software Development · Computer Engineering',\n",
              " 'Full TimeEntry Level · 1 - 2 Yrs of Exp · IT/Software Development · Engineering - Telecom/Technology · Odoo · MVC · Information Technology (IT) · Computer Science · Python · Software Development · CSS · Design',\n",
              " 'Full TimeEntry Level · 0 - 2 Yrs of Exp · Analyst/Research · Engineering - Telecom/Technology · Analysis · Analyst · Computer Science · Data Analyst · Python · Tableau · SQL · Power BI',\n",
              " 'Full TimeExperienced · 2 - 5 Yrs of Exp · IT/Software Development · Engineering - Telecom/Technology · Computer Science · Software Development · Agile · Python · SQL · JavaScript · jQuery · React',\n",
              " 'Full TimeExperienced · 2 - 5 Yrs of Exp · Customer Service/Support · Agile · Computer Science · Git · Information Technology (IT) · JavaScript · Odoo · Programming · Python · Software',\n",
              " 'Full TimeExperienced · 2 - 4 Yrs of Exp · IT/Software Development · Docker · DevOps · Kubernetes · Python · Software Development · Software Engineering']"
            ]
          },
          "metadata": {},
          "execution_count": 33
        }
      ]
    },
    {
      "cell_type": "code",
      "source": [
        "file_list=[job_title,location,company_name,job_skill,http_urls,salary]\n",
        "exported=zip_longest(*file_list)"
      ],
      "metadata": {
        "id": "8xYLuunVJPu9"
      },
      "execution_count": 73,
      "outputs": []
    },
    {
      "cell_type": "code",
      "source": [
        "with open(r'C:\\Users\\karee\\OneDrive\\Desktop\\PythonJobs.csv', \"w\") as myfile:\n",
        "  wr=csv.writer(myfile)\n",
        "  wr.writerow([\"job_title\",\"location\",\"company_name\",\"job_skill\",\"links\",'salary']) \n",
        "  wr.writerows(exported) "
      ],
      "metadata": {
        "id": "4FV8qKP1FH2Y"
      },
      "execution_count": 74,
      "outputs": []
    },
    {
      "cell_type": "code",
      "source": [
        "http_urls = ['https://wuzzuf.net' + url for url in links]\n"
      ],
      "metadata": {
        "id": "PMPuKhSSX2rz"
      },
      "execution_count": 66,
      "outputs": []
    },
    {
      "cell_type": "code",
      "source": [
        "http_urls"
      ],
      "metadata": {
        "colab": {
          "base_uri": "https://localhost:8080/"
        },
        "id": "rDNY_g37YOhX",
        "outputId": "2c07c86b-3101-4aa5-cafb-8c19c451e4aa"
      },
      "execution_count": 67,
      "outputs": [
        {
          "output_type": "execute_result",
          "data": {
            "text/plain": [
              "['https://wuzzuf.net/jobs/p/0QcXDjlHSYWv-Python-Data-Crawler-and-Pipeline-Manager-ProperBird-Munich-Germany?o=1&l=sp&t=sj&a=python|search-v3|hpb',\n",
              " 'https://wuzzuf.net/jobs/p/vQvRLPg7UDjv-Senior-Java-Scala-Backend-Developer-with-Python-experience--Remote-GetTechForce-com-Cairo-Egypt?o=2&l=sp&t=sj&a=python|search-v3|hpb',\n",
              " 'https://wuzzuf.net/jobs/p/xDDQRHJRw9kb-Junior-Odoo-Python-Developer-Ulemt-Cairo-Egypt?o=3&l=sp&t=sj&a=python|search-v3|hpb',\n",
              " 'https://wuzzuf.net/jobs/p/umErRniA2Sld-Senior-Full-Stack-Python-Developer-Luftborn-Cairo-Egypt?o=4&l=sp&t=sj&a=python|search-v3|hpb',\n",
              " 'https://wuzzuf.net/jobs/p/jVAMAEFs9QN9-Python-Technical-Lead-RDI-Giza-Egypt?o=5&l=sp&t=sj&a=python|search-v3|hpb',\n",
              " 'https://wuzzuf.net/jobs/p/V9tpf9hKVtVu-Senior-Python-Developer-Nile-Bits-LLC-Giza-Egypt?o=6&l=sp&t=sj&a=python|search-v3|hpb',\n",
              " 'https://wuzzuf.net/jobs/p/lLRPv82EYbk5-Wagtail-Python-Django-Developer-Remote---Urgent-GetTechForce-com-Cairo-Egypt?o=7&l=sp&t=sj&a=python|search-v3|hpb',\n",
              " 'https://wuzzuf.net/jobs/p/UOTTbSsxB9Q7-Senior-Python-Django-Developer-RDI-Giza-Egypt?o=8&l=sp&t=sj&a=python|search-v3|hpb',\n",
              " 'https://wuzzuf.net/jobs/p/w9gACyzkbBpQ-Junior-Python-Developer-RDI-Giza-Egypt?o=9&l=sp&t=sj&a=python|search-v3|hpb',\n",
              " 'https://wuzzuf.net/jobs/p/Sz7aIfCDRTJ1-Senior-Full-Stack-Python-Engineer-Amwal-Tech-Cairo-Egypt?o=10&l=sp&t=sj&a=python|search-v3|hpb',\n",
              " 'https://wuzzuf.net/jobs/p/eALeQDui1EFp-Python-Developer-OdooTec-Cairo-Egypt?o=11&l=sp&t=sj&a=python|search-v3|hpb',\n",
              " 'https://wuzzuf.net/jobs/p/cpUe170b7sLK-Risk-Data-Analyst-Fawry-Microfinance-Cairo-Egypt?o=12&l=sp&t=sj&a=python|search-v3|hpb',\n",
              " 'https://wuzzuf.net/jobs/p/DGZIFqyQzVTW-Full-Stack-Developer-Dafater-Cairo-Egypt?o=13&l=sp&t=sj&a=python|search-v3|hpb',\n",
              " 'https://wuzzuf.net/jobs/p/OJFF30qtFBvM-Python---Odoo-Developer-Be-In-Track-Cairo-Egypt?o=14&l=sp&t=sj&a=python|search-v3|hpb',\n",
              " 'https://wuzzuf.net/jobs/p/0VvqhRRRoffE-Devops-Engineer-intella-Giza-Egypt?o=15&l=sp&t=sj&a=python|search-v3|hpb',\n",
              " 'https://wuzzuf.net/jobs/p/0QcXDjlHSYWv-Python-Data-Crawler-and-Pipeline-Manager-ProperBird-Munich-Germany?o=1&l=sp&t=sj&a=python|search-v3|hpb',\n",
              " 'https://wuzzuf.net/jobs/p/vQvRLPg7UDjv-Senior-Java-Scala-Backend-Developer-with-Python-experience--Remote-GetTechForce-com-Cairo-Egypt?o=2&l=sp&t=sj&a=python|search-v3|hpb',\n",
              " 'https://wuzzuf.net/jobs/p/xDDQRHJRw9kb-Junior-Odoo-Python-Developer-Ulemt-Cairo-Egypt?o=3&l=sp&t=sj&a=python|search-v3|hpb',\n",
              " 'https://wuzzuf.net/jobs/p/umErRniA2Sld-Senior-Full-Stack-Python-Developer-Luftborn-Cairo-Egypt?o=4&l=sp&t=sj&a=python|search-v3|hpb',\n",
              " 'https://wuzzuf.net/jobs/p/jVAMAEFs9QN9-Python-Technical-Lead-RDI-Giza-Egypt?o=5&l=sp&t=sj&a=python|search-v3|hpb',\n",
              " 'https://wuzzuf.net/jobs/p/V9tpf9hKVtVu-Senior-Python-Developer-Nile-Bits-LLC-Giza-Egypt?o=6&l=sp&t=sj&a=python|search-v3|hpb',\n",
              " 'https://wuzzuf.net/jobs/p/lLRPv82EYbk5-Wagtail-Python-Django-Developer-Remote---Urgent-GetTechForce-com-Cairo-Egypt?o=7&l=sp&t=sj&a=python|search-v3|hpb',\n",
              " 'https://wuzzuf.net/jobs/p/UOTTbSsxB9Q7-Senior-Python-Django-Developer-RDI-Giza-Egypt?o=8&l=sp&t=sj&a=python|search-v3|hpb',\n",
              " 'https://wuzzuf.net/jobs/p/w9gACyzkbBpQ-Junior-Python-Developer-RDI-Giza-Egypt?o=9&l=sp&t=sj&a=python|search-v3|hpb',\n",
              " 'https://wuzzuf.net/jobs/p/Sz7aIfCDRTJ1-Senior-Full-Stack-Python-Engineer-Amwal-Tech-Cairo-Egypt?o=10&l=sp&t=sj&a=python|search-v3|hpb',\n",
              " 'https://wuzzuf.net/jobs/p/eALeQDui1EFp-Python-Developer-OdooTec-Cairo-Egypt?o=11&l=sp&t=sj&a=python|search-v3|hpb',\n",
              " 'https://wuzzuf.net/jobs/p/cpUe170b7sLK-Risk-Data-Analyst-Fawry-Microfinance-Cairo-Egypt?o=12&l=sp&t=sj&a=python|search-v3|hpb',\n",
              " 'https://wuzzuf.net/jobs/p/DGZIFqyQzVTW-Full-Stack-Developer-Dafater-Cairo-Egypt?o=13&l=sp&t=sj&a=python|search-v3|hpb',\n",
              " 'https://wuzzuf.net/jobs/p/OJFF30qtFBvM-Python---Odoo-Developer-Be-In-Track-Cairo-Egypt?o=14&l=sp&t=sj&a=python|search-v3|hpb',\n",
              " 'https://wuzzuf.net/jobs/p/0VvqhRRRoffE-Devops-Engineer-intella-Giza-Egypt?o=15&l=sp&t=sj&a=python|search-v3|hpb']"
            ]
          },
          "metadata": {},
          "execution_count": 67
        }
      ]
    },
    {
      "cell_type": "code",
      "source": [
        "result2=[]"
      ],
      "metadata": {
        "id": "GQXDDgaTUggT"
      },
      "execution_count": 39,
      "outputs": []
    },
    {
      "cell_type": "code",
      "source": [
        "page_num=0"
      ],
      "metadata": {
        "id": "CgCeYJZqs-SQ"
      },
      "execution_count": 151,
      "outputs": []
    },
    {
      "cell_type": "code",
      "source": [
        "salary=[]"
      ],
      "metadata": {
        "id": "S3VPao0WaQD4"
      },
      "execution_count": 70,
      "outputs": []
    },
    {
      "cell_type": "code",
      "source": [
        "salaries=[]"
      ],
      "metadata": {
        "id": "WBKe-sD8fd0p"
      },
      "execution_count": 101,
      "outputs": []
    },
    {
      "cell_type": "code",
      "source": [
        "requirements=[]"
      ],
      "metadata": {
        "id": "2nRzXU2anT7a"
      },
      "execution_count": 131,
      "outputs": []
    },
    {
      "cell_type": "code",
      "source": [
        "##for link in http_urls:\n",
        "##  result2=requests.get(link)\n",
        " ## src=result2.content\n",
        "  ##soup=BeautifulSoup(src,'lxml')\n",
        "  \n",
        "  ##third_span = soup.find('span',{\"class\":\"css-4xky9y\"})\n",
        "  ###if third_span is not None:\n",
        "    ##salary.append(third_span.text)\n",
        "  ##else:\n",
        "  ##  salary.append('N/A')\n",
        "  ##requirements=soup.find(\"section\",{\"class\":\"css-ghicub\"}).finf(\"div\",{\"class\":\"css-1t5f0fr\"}).ul\n",
        "  "
      ],
      "metadata": {
        "id": "5uop_tuPqhd5"
      },
      "execution_count": null,
      "outputs": []
    },
    {
      "cell_type": "code",
      "source": [],
      "metadata": {
        "id": "eN1Y92Krq0zO"
      },
      "execution_count": null,
      "outputs": []
    }
  ]
}